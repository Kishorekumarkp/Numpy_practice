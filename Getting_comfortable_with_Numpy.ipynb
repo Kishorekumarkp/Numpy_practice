{
  "nbformat": 4,
  "nbformat_minor": 0,
  "metadata": {
    "colab": {
      "provenance": [],
      "toc_visible": true
    },
    "kernelspec": {
      "name": "python3",
      "display_name": "Python 3"
    },
    "language_info": {
      "name": "python"
    }
  },
  "cells": [
    {
      "cell_type": "markdown",
      "source": [
        "#Numpy\n"
      ],
      "metadata": {
        "id": "YHnCu4eTsmRK"
      }
    },
    {
      "cell_type": "code",
      "source": [
        "import numpy as np"
      ],
      "metadata": {
        "id": "R8u0ouqust1J"
      },
      "execution_count": null,
      "outputs": []
    },
    {
      "cell_type": "markdown",
      "source": [
        "#Numpy Arrays\n",
        "1) Vectors - 1D Arrays\n",
        "2) Matrices - 2D Arrays"
      ],
      "metadata": {
        "id": "4STu7tiR6XTZ"
      }
    },
    {
      "cell_type": "code",
      "source": [
        "my_list = [1,2,3,4,5]\n",
        "my_list"
      ],
      "metadata": {
        "colab": {
          "base_uri": "https://localhost:8080/"
        },
        "id": "QyxhFWYJ6VVg",
        "outputId": "87708d0b-3d3a-458e-8ca4-aab96aa60180"
      },
      "execution_count": null,
      "outputs": [
        {
          "output_type": "execute_result",
          "data": {
            "text/plain": [
              "[1, 2, 3, 4, 5]"
            ]
          },
          "metadata": {},
          "execution_count": 2
        }
      ]
    },
    {
      "cell_type": "markdown",
      "source": [
        "To convert the above python list into numpy array, use **np.array(my_list)**"
      ],
      "metadata": {
        "id": "wnidZTdK7vSV"
      }
    },
    {
      "cell_type": "code",
      "source": [
        "np.array(my_list)"
      ],
      "metadata": {
        "colab": {
          "base_uri": "https://localhost:8080/"
        },
        "id": "k_HZKZNutLg_",
        "outputId": "996d494b-5f97-4f10-841a-7b4a03a3330e"
      },
      "execution_count": null,
      "outputs": [
        {
          "output_type": "execute_result",
          "data": {
            "text/plain": [
              "array([1, 2, 3, 4, 5])"
            ]
          },
          "metadata": {},
          "execution_count": 5
        }
      ]
    },
    {
      "cell_type": "code",
      "source": [
        "type(np.array(my_list))"
      ],
      "metadata": {
        "colab": {
          "base_uri": "https://localhost:8080/"
        },
        "id": "mdbcqZ0_8mvR",
        "outputId": "a9fc959d-5faa-4868-d4b6-af3b4e43a1f2"
      },
      "execution_count": null,
      "outputs": [
        {
          "output_type": "execute_result",
          "data": {
            "text/plain": [
              "numpy.ndarray"
            ]
          },
          "metadata": {},
          "execution_count": 6
        }
      ]
    },
    {
      "cell_type": "markdown",
      "source": [
        "We can also create 2 or multi dimensional array"
      ],
      "metadata": {
        "id": "hO_zXyeg8JOi"
      }
    },
    {
      "cell_type": "code",
      "source": [
        "s = [[1,2,3],[4,5,6],[7,8,9]]\n",
        "np.array(s)"
      ],
      "metadata": {
        "colab": {
          "base_uri": "https://localhost:8080/"
        },
        "id": "PTTGHMdC7uCd",
        "outputId": "505831e0-dc9b-4452-b481-c315e2f08429"
      },
      "execution_count": null,
      "outputs": [
        {
          "output_type": "execute_result",
          "data": {
            "text/plain": [
              "array([[1, 2, 3],\n",
              "       [4, 5, 6],\n",
              "       [7, 8, 9]])"
            ]
          },
          "metadata": {},
          "execution_count": 7
        }
      ]
    },
    {
      "cell_type": "code",
      "source": [
        "type(np.array(s))"
      ],
      "metadata": {
        "colab": {
          "base_uri": "https://localhost:8080/"
        },
        "id": "TDZPyzOo84rb",
        "outputId": "ea7a4f63-3dfc-4d79-cb80-16348a7de95c"
      },
      "execution_count": null,
      "outputs": [
        {
          "output_type": "execute_result",
          "data": {
            "text/plain": [
              "numpy.ndarray"
            ]
          },
          "metadata": {},
          "execution_count": 8
        }
      ]
    },
    {
      "cell_type": "markdown",
      "source": [
        "#Built in Methods\n",
        "1) arange - array of range\n",
        "2) Zeros - array of zeros\n",
        "3) Ones - array of ones\n",
        "4) Linspace - return evenly spaced numbers\n",
        "5) eye - returns a 2D array with 1s at diagonals and remaining places with 0\n",
        "6) Random - returns random values in given shape with random samples"
      ],
      "metadata": {
        "id": "XnyHnd8O9A1P"
      }
    },
    {
      "cell_type": "markdown",
      "source": [
        "##Arange"
      ],
      "metadata": {
        "id": "xMT3B-eTEoYy"
      }
    },
    {
      "cell_type": "code",
      "source": [
        "np.arange(0,10)"
      ],
      "metadata": {
        "colab": {
          "base_uri": "https://localhost:8080/"
        },
        "id": "o7OPuL5588Ky",
        "outputId": "81fc2206-fbdd-4b71-be2b-36f90dcc469b"
      },
      "execution_count": null,
      "outputs": [
        {
          "output_type": "execute_result",
          "data": {
            "text/plain": [
              "array([0, 1, 2, 3, 4, 5, 6, 7, 8, 9])"
            ]
          },
          "metadata": {},
          "execution_count": 9
        }
      ]
    },
    {
      "cell_type": "code",
      "source": [
        "np.arange(56,100,5)"
      ],
      "metadata": {
        "colab": {
          "base_uri": "https://localhost:8080/"
        },
        "id": "aBYcee2_9wnX",
        "outputId": "1adb3e1b-de17-421b-95bf-1257133612ea"
      },
      "execution_count": null,
      "outputs": [
        {
          "output_type": "execute_result",
          "data": {
            "text/plain": [
              "array([56, 61, 66, 71, 76, 81, 86, 91, 96])"
            ]
          },
          "metadata": {},
          "execution_count": 10
        }
      ]
    },
    {
      "cell_type": "markdown",
      "source": [
        "##Zeros"
      ],
      "metadata": {
        "id": "7VChaUwvEq2u"
      }
    },
    {
      "cell_type": "code",
      "source": [
        "np.zeros(10)"
      ],
      "metadata": {
        "colab": {
          "base_uri": "https://localhost:8080/"
        },
        "id": "YODDdEAiGGsA",
        "outputId": "c14dee56-2def-4c46-b3d7-aac60e0dc4d0"
      },
      "execution_count": null,
      "outputs": [
        {
          "output_type": "execute_result",
          "data": {
            "text/plain": [
              "array([0., 0., 0., 0., 0., 0., 0., 0., 0., 0.])"
            ]
          },
          "metadata": {},
          "execution_count": 24
        }
      ]
    },
    {
      "cell_type": "code",
      "source": [
        "np.zeros((10,5))"
      ],
      "metadata": {
        "colab": {
          "base_uri": "https://localhost:8080/"
        },
        "id": "yfCiYwhe98YB",
        "outputId": "5c42a1f6-7e52-4c7c-9c39-dfa0e621e2a4"
      },
      "execution_count": null,
      "outputs": [
        {
          "output_type": "execute_result",
          "data": {
            "text/plain": [
              "array([[0., 0., 0., 0., 0.],\n",
              "       [0., 0., 0., 0., 0.],\n",
              "       [0., 0., 0., 0., 0.],\n",
              "       [0., 0., 0., 0., 0.],\n",
              "       [0., 0., 0., 0., 0.],\n",
              "       [0., 0., 0., 0., 0.],\n",
              "       [0., 0., 0., 0., 0.],\n",
              "       [0., 0., 0., 0., 0.],\n",
              "       [0., 0., 0., 0., 0.],\n",
              "       [0., 0., 0., 0., 0.]])"
            ]
          },
          "metadata": {},
          "execution_count": 12
        }
      ]
    },
    {
      "cell_type": "markdown",
      "source": [
        "Initally the datatype will be float, we can also convert datatype using below method"
      ],
      "metadata": {
        "id": "JcoOzp_d_s5b"
      }
    },
    {
      "cell_type": "code",
      "source": [
        "np.zeros((10,5), dtype = int)"
      ],
      "metadata": {
        "colab": {
          "base_uri": "https://localhost:8080/"
        },
        "id": "WI-xQ9CD_Yv2",
        "outputId": "20ecc8b4-17f6-4470-d741-21aa3b0d72c7"
      },
      "execution_count": null,
      "outputs": [
        {
          "output_type": "execute_result",
          "data": {
            "text/plain": [
              "array([[0, 0, 0, 0, 0],\n",
              "       [0, 0, 0, 0, 0],\n",
              "       [0, 0, 0, 0, 0],\n",
              "       [0, 0, 0, 0, 0],\n",
              "       [0, 0, 0, 0, 0],\n",
              "       [0, 0, 0, 0, 0],\n",
              "       [0, 0, 0, 0, 0],\n",
              "       [0, 0, 0, 0, 0],\n",
              "       [0, 0, 0, 0, 0],\n",
              "       [0, 0, 0, 0, 0]])"
            ]
          },
          "metadata": {},
          "execution_count": 13
        }
      ]
    },
    {
      "cell_type": "markdown",
      "source": [
        "##Ones"
      ],
      "metadata": {
        "id": "JDZutvyREtnm"
      }
    },
    {
      "cell_type": "code",
      "source": [
        "np.ones((3,3))"
      ],
      "metadata": {
        "colab": {
          "base_uri": "https://localhost:8080/"
        },
        "id": "XYsZ8jua_pLi",
        "outputId": "a748f30f-09fc-43dc-c5a3-4eed6a1dd178"
      },
      "execution_count": null,
      "outputs": [
        {
          "output_type": "execute_result",
          "data": {
            "text/plain": [
              "array([[1., 1., 1.],\n",
              "       [1., 1., 1.],\n",
              "       [1., 1., 1.]])"
            ]
          },
          "metadata": {},
          "execution_count": 14
        }
      ]
    },
    {
      "cell_type": "markdown",
      "source": [
        "##Linspace"
      ],
      "metadata": {
        "id": "7sVeTYjnEvct"
      }
    },
    {
      "cell_type": "code",
      "source": [
        "np.linspace(0,2)"
      ],
      "metadata": {
        "colab": {
          "base_uri": "https://localhost:8080/"
        },
        "id": "pDtYpZyg_42r",
        "outputId": "c8b474c8-aa3c-48c4-ac61-2948e067daae"
      },
      "execution_count": null,
      "outputs": [
        {
          "output_type": "execute_result",
          "data": {
            "text/plain": [
              "array([0.        , 0.04081633, 0.08163265, 0.12244898, 0.16326531,\n",
              "       0.20408163, 0.24489796, 0.28571429, 0.32653061, 0.36734694,\n",
              "       0.40816327, 0.44897959, 0.48979592, 0.53061224, 0.57142857,\n",
              "       0.6122449 , 0.65306122, 0.69387755, 0.73469388, 0.7755102 ,\n",
              "       0.81632653, 0.85714286, 0.89795918, 0.93877551, 0.97959184,\n",
              "       1.02040816, 1.06122449, 1.10204082, 1.14285714, 1.18367347,\n",
              "       1.2244898 , 1.26530612, 1.30612245, 1.34693878, 1.3877551 ,\n",
              "       1.42857143, 1.46938776, 1.51020408, 1.55102041, 1.59183673,\n",
              "       1.63265306, 1.67346939, 1.71428571, 1.75510204, 1.79591837,\n",
              "       1.83673469, 1.87755102, 1.91836735, 1.95918367, 2.        ])"
            ]
          },
          "metadata": {},
          "execution_count": 16
        }
      ]
    },
    {
      "cell_type": "markdown",
      "source": [
        "We can also evenly divide according to user needs by giving how many values as third argument"
      ],
      "metadata": {
        "id": "_mOUzRjRDDOo"
      }
    },
    {
      "cell_type": "code",
      "source": [
        "np.linspace(0,10,5)"
      ],
      "metadata": {
        "colab": {
          "base_uri": "https://localhost:8080/"
        },
        "id": "Tf5O2WMLC_vf",
        "outputId": "689507d8-139c-48e5-b1b3-97a8bc02ae52"
      },
      "execution_count": null,
      "outputs": [
        {
          "output_type": "execute_result",
          "data": {
            "text/plain": [
              "array([ 0. ,  2.5,  5. ,  7.5, 10. ])"
            ]
          },
          "metadata": {},
          "execution_count": 19
        }
      ]
    },
    {
      "cell_type": "markdown",
      "source": [
        "##Eye"
      ],
      "metadata": {
        "id": "iBXbKkDIEyG0"
      }
    },
    {
      "cell_type": "code",
      "source": [
        "np.eye(5)"
      ],
      "metadata": {
        "colab": {
          "base_uri": "https://localhost:8080/"
        },
        "id": "xAHg_NybDCUY",
        "outputId": "fad08ac0-11f3-4217-a70e-ba0d3f01dc38"
      },
      "execution_count": null,
      "outputs": [
        {
          "output_type": "execute_result",
          "data": {
            "text/plain": [
              "array([[1., 0., 0., 0., 0.],\n",
              "       [0., 1., 0., 0., 0.],\n",
              "       [0., 0., 1., 0., 0.],\n",
              "       [0., 0., 0., 1., 0.],\n",
              "       [0., 0., 0., 0., 1.]])"
            ]
          },
          "metadata": {},
          "execution_count": 20
        }
      ]
    },
    {
      "cell_type": "markdown",
      "source": [
        "##Random"
      ],
      "metadata": {
        "id": "IGez0Q8XEcjQ"
      }
    },
    {
      "cell_type": "code",
      "source": [
        "np.random.rand(5) #uniform distribution"
      ],
      "metadata": {
        "colab": {
          "base_uri": "https://localhost:8080/"
        },
        "id": "71nnWYieEH6V",
        "outputId": "9120e16a-6770-43f4-ba62-c3d6078a5e3a"
      },
      "execution_count": null,
      "outputs": [
        {
          "output_type": "execute_result",
          "data": {
            "text/plain": [
              "array([0.37902774, 0.37171503, 0.19479067, 0.47658972, 0.09382893])"
            ]
          },
          "metadata": {},
          "execution_count": 21
        }
      ]
    },
    {
      "cell_type": "code",
      "source": [
        "np.random.rand(5,4)"
      ],
      "metadata": {
        "colab": {
          "base_uri": "https://localhost:8080/"
        },
        "id": "rQhthD1yF13F",
        "outputId": "3e965868-bbdc-4620-b246-6e32f9fcc6e1"
      },
      "execution_count": null,
      "outputs": [
        {
          "output_type": "execute_result",
          "data": {
            "text/plain": [
              "array([[0.12354737, 0.64721801, 0.77664323, 0.62748681],\n",
              "       [0.52713501, 0.26042823, 0.72824145, 0.28907846],\n",
              "       [0.9724889 , 0.96696758, 0.00911817, 0.46233629],\n",
              "       [0.57294297, 0.02234412, 0.44161279, 0.21108004],\n",
              "       [0.05961968, 0.29523006, 0.36917636, 0.25399296]])"
            ]
          },
          "metadata": {},
          "execution_count": 22
        }
      ]
    },
    {
      "cell_type": "code",
      "source": [
        "np.random.rand(5,5,7)"
      ],
      "metadata": {
        "colab": {
          "base_uri": "https://localhost:8080/"
        },
        "id": "d9VhqAW5F4q3",
        "outputId": "5616f046-02f6-4382-caf3-5edecaf52095"
      },
      "execution_count": null,
      "outputs": [
        {
          "output_type": "execute_result",
          "data": {
            "text/plain": [
              "array([[[0.7878726 , 0.36556661, 0.86208968, 0.05158515, 0.0591433 ,\n",
              "         0.47869353, 0.79128591],\n",
              "        [0.006544  , 0.55107642, 0.11933119, 0.75513393, 0.93788429,\n",
              "         0.5332406 , 0.91035828],\n",
              "        [0.82774704, 0.35160054, 0.08918259, 0.03901952, 0.68498355,\n",
              "         0.03058321, 0.55228765],\n",
              "        [0.40516783, 0.76452256, 0.71207414, 0.10223348, 0.55052898,\n",
              "         0.99438464, 0.88296401],\n",
              "        [0.98755819, 0.44882125, 0.64993964, 0.90162581, 0.2788075 ,\n",
              "         0.01958995, 0.86304284]],\n",
              "\n",
              "       [[0.62977729, 0.21621147, 0.45974637, 0.03396187, 0.80572802,\n",
              "         0.79351976, 0.0052301 ],\n",
              "        [0.82115637, 0.43458302, 0.01801728, 0.56958441, 0.196567  ,\n",
              "         0.31988767, 0.6147961 ],\n",
              "        [0.26695281, 0.23952153, 0.29588356, 0.57482438, 0.51098277,\n",
              "         0.18817399, 0.69135628],\n",
              "        [0.80983788, 0.05217228, 0.65156075, 0.48548114, 0.43416473,\n",
              "         0.68182167, 0.56520147],\n",
              "        [0.98907128, 0.01978058, 0.20971966, 0.41048074, 0.49247166,\n",
              "         0.25659757, 0.17227718]],\n",
              "\n",
              "       [[0.96730472, 0.3638259 , 0.95734777, 0.01782534, 0.24057305,\n",
              "         0.50070888, 0.33453701],\n",
              "        [0.39198143, 0.3018712 , 0.23580692, 0.5012589 , 0.84097518,\n",
              "         0.71385698, 0.56094687],\n",
              "        [0.31697033, 0.68273857, 0.65698306, 0.13905195, 0.94308431,\n",
              "         0.12622355, 0.34088372],\n",
              "        [0.03949218, 0.62084031, 0.42341442, 0.54680005, 0.29949955,\n",
              "         0.79020567, 0.2658185 ],\n",
              "        [0.37354146, 0.98412377, 0.17105511, 0.63358226, 0.68936899,\n",
              "         0.83538808, 0.98001148]],\n",
              "\n",
              "       [[0.43815792, 0.25517121, 0.7539385 , 0.12073531, 0.30775209,\n",
              "         0.38230952, 0.42260226],\n",
              "        [0.6634364 , 0.59543948, 0.73318808, 0.05160996, 0.90877947,\n",
              "         0.26552184, 0.02460888],\n",
              "        [0.54023818, 0.99180358, 0.0550369 , 0.40159707, 0.27816119,\n",
              "         0.45575815, 0.51188334],\n",
              "        [0.39287879, 0.30913535, 0.02709629, 0.09960857, 0.95492352,\n",
              "         0.40363368, 0.13404954],\n",
              "        [0.82334328, 0.97890217, 0.5489282 , 0.03461301, 0.52652069,\n",
              "         0.83278539, 0.0349882 ]],\n",
              "\n",
              "       [[0.02200603, 0.4663809 , 0.29443669, 0.39195936, 0.05643909,\n",
              "         0.44105802, 0.63011276],\n",
              "        [0.7768507 , 0.8440907 , 0.7953471 , 0.95684897, 0.03467683,\n",
              "         0.62204517, 0.67912927],\n",
              "        [0.59975575, 0.77340504, 0.27988409, 0.11211393, 0.88362709,\n",
              "         0.97631132, 0.26866598],\n",
              "        [0.77737276, 0.68478553, 0.49729824, 0.03407377, 0.62641471,\n",
              "         0.66938183, 0.31155424],\n",
              "        [0.31038815, 0.97385809, 0.13486747, 0.79368084, 0.49161366,\n",
              "         0.72019779, 0.02576726]]])"
            ]
          },
          "metadata": {},
          "execution_count": 23
        }
      ]
    },
    {
      "cell_type": "code",
      "source": [
        "np.random.randn(5) #normal distribution"
      ],
      "metadata": {
        "colab": {
          "base_uri": "https://localhost:8080/"
        },
        "id": "bYi4RbRvF9l6",
        "outputId": "fca6089b-0e88-4c6a-c2b3-ee3263b34a1f"
      },
      "execution_count": null,
      "outputs": [
        {
          "output_type": "execute_result",
          "data": {
            "text/plain": [
              "array([ 0.206282  , -0.8151334 ,  2.11054569, -0.70581584,  0.19602535])"
            ]
          },
          "metadata": {},
          "execution_count": 25
        }
      ]
    },
    {
      "cell_type": "code",
      "source": [
        "np.random.randn(1,100)"
      ],
      "metadata": {
        "colab": {
          "base_uri": "https://localhost:8080/"
        },
        "id": "mVSs0cCpIvlF",
        "outputId": "e910a0e8-4ac7-40ff-e309-7e5dd994fc8a"
      },
      "execution_count": null,
      "outputs": [
        {
          "output_type": "execute_result",
          "data": {
            "text/plain": [
              "array([[ 0.20760046, -1.58086904, -0.83633792,  1.07660806,  0.37336737,\n",
              "        -1.19147842,  0.91575055,  0.24301163,  1.2867496 ,  1.88160702,\n",
              "        -0.45129119, -0.11816096, -0.66104275,  0.68020561, -0.60589947,\n",
              "        -0.41681297,  1.11959447, -1.66951432,  0.44366577, -0.14275389,\n",
              "        -0.42163083, -0.78567455,  0.08159577, -0.09998716, -0.95776123,\n",
              "        -0.72039796, -2.30101721, -0.74116833,  0.14739   , -0.40162131,\n",
              "        -0.98851574,  0.62063464,  0.401329  , -1.44054341,  1.14273092,\n",
              "        -0.19978706,  1.52196827, -0.56906572, -1.45793906,  1.1998696 ,\n",
              "        -0.82858979,  1.42671464, -0.68946653,  0.76523847, -0.66634146,\n",
              "        -0.79875162,  0.45959376,  0.6199812 ,  1.94492669,  2.42868877,\n",
              "        -0.38880852,  0.39359275, -0.0970257 , -0.04113574,  1.0549364 ,\n",
              "        -0.22113005, -0.08161918, -0.19870058,  1.90665083, -0.63312979,\n",
              "        -0.16162081, -0.79987189,  2.14343516,  1.04311685,  0.72456236,\n",
              "        -1.52984172, -0.6222724 , -0.61078329, -0.11747572,  2.07786582,\n",
              "         0.86968144, -1.44648521,  0.29150636,  0.8926561 ,  0.54392082,\n",
              "         0.46695427, -2.4294414 , -0.24721861,  0.44498087, -0.04340777,\n",
              "         0.09041464, -0.90109294, -0.12267484,  0.19753426,  0.30268882,\n",
              "         0.94049321,  0.56163867, -0.96354534,  3.43895417,  1.48460308,\n",
              "        -0.38085773, -0.3463093 , -0.25406897, -0.73821407, -0.48113567,\n",
              "        -1.58098084,  0.65750424, -0.72488573,  1.14980019,  1.06963842]])"
            ]
          },
          "metadata": {},
          "execution_count": 26
        }
      ]
    },
    {
      "cell_type": "code",
      "source": [
        "np.random.randint(100)"
      ],
      "metadata": {
        "colab": {
          "base_uri": "https://localhost:8080/"
        },
        "id": "D-6fIEVtKB2n",
        "outputId": "7097390e-ca8d-4b47-8547-965aeb89747e"
      },
      "execution_count": null,
      "outputs": [
        {
          "output_type": "execute_result",
          "data": {
            "text/plain": [
              "20"
            ]
          },
          "metadata": {},
          "execution_count": 29
        }
      ]
    },
    {
      "cell_type": "code",
      "source": [
        "np.random.randint(1,100)"
      ],
      "metadata": {
        "colab": {
          "base_uri": "https://localhost:8080/"
        },
        "id": "ysH0mQnIKPGZ",
        "outputId": "2b88ce80-7397-4af6-ca11-816faf066136"
      },
      "execution_count": null,
      "outputs": [
        {
          "output_type": "execute_result",
          "data": {
            "text/plain": [
              "74"
            ]
          },
          "metadata": {},
          "execution_count": 30
        }
      ]
    },
    {
      "cell_type": "code",
      "source": [
        "np.random.randint(1,100,6)"
      ],
      "metadata": {
        "colab": {
          "base_uri": "https://localhost:8080/"
        },
        "id": "AJZWwnUBKVe5",
        "outputId": "2178faf2-66b4-4d34-c1d9-c4933bfe5982"
      },
      "execution_count": null,
      "outputs": [
        {
          "output_type": "execute_result",
          "data": {
            "text/plain": [
              "array([79, 38, 15, 57, 81, 35])"
            ]
          },
          "metadata": {},
          "execution_count": 31
        }
      ]
    },
    {
      "cell_type": "markdown",
      "source": [
        "#Array Attributes and Methods\n",
        "1) reshape\n",
        "2) min()\n",
        "3) Max()\n",
        "4) argmin()\n",
        "5) argmax()\n",
        "6) shape"
      ],
      "metadata": {
        "id": "vctLbqbyNp-d"
      }
    },
    {
      "cell_type": "code",
      "source": [
        "ar = np.arange(25)"
      ],
      "metadata": {
        "id": "o_6LA7lFKalZ"
      },
      "execution_count": null,
      "outputs": []
    },
    {
      "cell_type": "code",
      "source": [
        "ar"
      ],
      "metadata": {
        "colab": {
          "base_uri": "https://localhost:8080/"
        },
        "id": "9NydiZ17Tl_3",
        "outputId": "92895ed4-bf86-4095-bab1-9100c6381f44"
      },
      "execution_count": null,
      "outputs": [
        {
          "output_type": "execute_result",
          "data": {
            "text/plain": [
              "array([ 0,  1,  2,  3,  4,  5,  6,  7,  8,  9, 10, 11, 12, 13, 14, 15, 16,\n",
              "       17, 18, 19, 20, 21, 22, 23, 24])"
            ]
          },
          "metadata": {},
          "execution_count": 33
        }
      ]
    },
    {
      "cell_type": "code",
      "source": [
        "nar = np.random.randint(0,50,10)"
      ],
      "metadata": {
        "id": "wre2gLcpTnbq"
      },
      "execution_count": null,
      "outputs": []
    },
    {
      "cell_type": "code",
      "source": [
        "nar"
      ],
      "metadata": {
        "colab": {
          "base_uri": "https://localhost:8080/"
        },
        "id": "Ga5MWHpxTxY9",
        "outputId": "bb24989b-4f29-47cd-eeff-e32d2cdc715f"
      },
      "execution_count": null,
      "outputs": [
        {
          "output_type": "execute_result",
          "data": {
            "text/plain": [
              "array([37,  6, 36,  1,  0, 26, 37, 21, 48, 49])"
            ]
          },
          "metadata": {},
          "execution_count": 35
        }
      ]
    },
    {
      "cell_type": "code",
      "source": [
        "ar.reshape(5,5)"
      ],
      "metadata": {
        "colab": {
          "base_uri": "https://localhost:8080/"
        },
        "id": "gD1ZfHHOTx91",
        "outputId": "a2a2bb54-8279-4bc7-dcc0-66295e9e1a6c"
      },
      "execution_count": null,
      "outputs": [
        {
          "output_type": "execute_result",
          "data": {
            "text/plain": [
              "array([[ 0,  1,  2,  3,  4],\n",
              "       [ 5,  6,  7,  8,  9],\n",
              "       [10, 11, 12, 13, 14],\n",
              "       [15, 16, 17, 18, 19],\n",
              "       [20, 21, 22, 23, 24]])"
            ]
          },
          "metadata": {},
          "execution_count": 36
        }
      ]
    },
    {
      "cell_type": "code",
      "source": [
        "nar.min()"
      ],
      "metadata": {
        "colab": {
          "base_uri": "https://localhost:8080/"
        },
        "id": "x-LpjwpZT5eR",
        "outputId": "ab0eb1b4-fd0a-4e7e-ad5a-7490ce5ecdc0"
      },
      "execution_count": null,
      "outputs": [
        {
          "output_type": "execute_result",
          "data": {
            "text/plain": [
              "0"
            ]
          },
          "metadata": {},
          "execution_count": 44
        }
      ]
    },
    {
      "cell_type": "code",
      "source": [
        "nar.max()"
      ],
      "metadata": {
        "colab": {
          "base_uri": "https://localhost:8080/"
        },
        "id": "5Kg80j6-U7bl",
        "outputId": "0cb66945-6594-42b2-9260-f8071901ff30"
      },
      "execution_count": null,
      "outputs": [
        {
          "output_type": "execute_result",
          "data": {
            "text/plain": [
              "49"
            ]
          },
          "metadata": {},
          "execution_count": 45
        }
      ]
    },
    {
      "cell_type": "code",
      "source": [
        "nar.argmax()"
      ],
      "metadata": {
        "colab": {
          "base_uri": "https://localhost:8080/"
        },
        "id": "oe_XqaI5Uq8N",
        "outputId": "23fc5854-485f-4f1a-c850-21fea863487f"
      },
      "execution_count": null,
      "outputs": [
        {
          "output_type": "execute_result",
          "data": {
            "text/plain": [
              "9"
            ]
          },
          "metadata": {},
          "execution_count": 40
        }
      ]
    },
    {
      "cell_type": "code",
      "source": [
        "nar.argmin()"
      ],
      "metadata": {
        "colab": {
          "base_uri": "https://localhost:8080/"
        },
        "id": "rcqLz8e_UtV5",
        "outputId": "b4b153e6-c7f9-479f-cd38-61c280b879a6"
      },
      "execution_count": null,
      "outputs": [
        {
          "output_type": "execute_result",
          "data": {
            "text/plain": [
              "4"
            ]
          },
          "metadata": {},
          "execution_count": 42
        }
      ]
    },
    {
      "cell_type": "code",
      "source": [
        "ar.shape"
      ],
      "metadata": {
        "colab": {
          "base_uri": "https://localhost:8080/"
        },
        "id": "v2lVFl82U4zB",
        "outputId": "c530050b-4968-4ce8-9c3d-a0c724fd3db1"
      },
      "execution_count": null,
      "outputs": [
        {
          "output_type": "execute_result",
          "data": {
            "text/plain": [
              "(25,)"
            ]
          },
          "metadata": {},
          "execution_count": 48
        }
      ]
    },
    {
      "cell_type": "code",
      "source": [
        "c = ar.reshape(5,5)"
      ],
      "metadata": {
        "id": "OCIb1UFRVX_l"
      },
      "execution_count": null,
      "outputs": []
    },
    {
      "cell_type": "code",
      "source": [
        "c.shape"
      ],
      "metadata": {
        "colab": {
          "base_uri": "https://localhost:8080/"
        },
        "id": "IAZQxQpeVqpR",
        "outputId": "b8be5d61-f393-44a8-93ae-e7aad8b5df1b"
      },
      "execution_count": null,
      "outputs": [
        {
          "output_type": "execute_result",
          "data": {
            "text/plain": [
              "(5, 5)"
            ]
          },
          "metadata": {},
          "execution_count": 51
        }
      ]
    },
    {
      "cell_type": "code",
      "source": [
        "ar.dtype"
      ],
      "metadata": {
        "colab": {
          "base_uri": "https://localhost:8080/"
        },
        "id": "CdKHlVwpV6AQ",
        "outputId": "f48a68f2-5569-4e2e-c862-00fac17295c4"
      },
      "execution_count": null,
      "outputs": [
        {
          "output_type": "execute_result",
          "data": {
            "text/plain": [
              "dtype('int64')"
            ]
          },
          "metadata": {},
          "execution_count": 52
        }
      ]
    },
    {
      "cell_type": "markdown",
      "source": [
        "#Numpy Indexing and Selection"
      ],
      "metadata": {
        "id": "2f57indBWdUH"
      }
    },
    {
      "cell_type": "code",
      "source": [
        "ar = np.arange(10)"
      ],
      "metadata": {
        "id": "M9_1p5qGWZPE"
      },
      "execution_count": null,
      "outputs": []
    },
    {
      "cell_type": "code",
      "source": [
        "ar"
      ],
      "metadata": {
        "colab": {
          "base_uri": "https://localhost:8080/"
        },
        "id": "FDwuLe95XQBt",
        "outputId": "f780d839-3fd1-4a08-b778-ff2e7f480238"
      },
      "execution_count": null,
      "outputs": [
        {
          "output_type": "execute_result",
          "data": {
            "text/plain": [
              "array([0, 1, 2, 3, 4, 5, 6, 7, 8, 9])"
            ]
          },
          "metadata": {},
          "execution_count": 54
        }
      ]
    },
    {
      "cell_type": "markdown",
      "source": [
        "##Bracket Indexing"
      ],
      "metadata": {
        "id": "TFVVtN2HXikt"
      }
    },
    {
      "cell_type": "code",
      "source": [
        "ar[6]"
      ],
      "metadata": {
        "colab": {
          "base_uri": "https://localhost:8080/"
        },
        "id": "rht8XHjWXRdQ",
        "outputId": "7a672ac7-4bf9-4ba5-f7db-466e21648b9e"
      },
      "execution_count": null,
      "outputs": [
        {
          "output_type": "execute_result",
          "data": {
            "text/plain": [
              "6"
            ]
          },
          "metadata": {},
          "execution_count": 55
        }
      ]
    },
    {
      "cell_type": "code",
      "source": [
        "ar[1:7:2]"
      ],
      "metadata": {
        "colab": {
          "base_uri": "https://localhost:8080/"
        },
        "id": "Uot3vu6iXYDJ",
        "outputId": "60e6cbed-9629-494a-842b-d235583e3ae1"
      },
      "execution_count": null,
      "outputs": [
        {
          "output_type": "execute_result",
          "data": {
            "text/plain": [
              "array([1, 3, 5])"
            ]
          },
          "metadata": {},
          "execution_count": 56
        }
      ]
    },
    {
      "cell_type": "markdown",
      "source": [
        "## BroadCasting"
      ],
      "metadata": {
        "id": "wS7h6yRNYe5W"
      }
    },
    {
      "cell_type": "code",
      "source": [
        "ar[0:5] = 3"
      ],
      "metadata": {
        "id": "jX8y4fleXac4"
      },
      "execution_count": null,
      "outputs": []
    },
    {
      "cell_type": "code",
      "source": [
        "ar"
      ],
      "metadata": {
        "colab": {
          "base_uri": "https://localhost:8080/"
        },
        "id": "xeSnZEhIYlRP",
        "outputId": "b233c7f9-2578-4b99-84e5-8a613f8ca2f3"
      },
      "execution_count": null,
      "outputs": [
        {
          "output_type": "execute_result",
          "data": {
            "text/plain": [
              "array([3, 3, 3, 3, 3, 5, 6, 7, 8, 9])"
            ]
          },
          "metadata": {},
          "execution_count": 59
        }
      ]
    },
    {
      "cell_type": "code",
      "source": [
        "arr = np.arange(0,10)"
      ],
      "metadata": {
        "id": "CVRkqoJ1YoKI"
      },
      "execution_count": null,
      "outputs": []
    },
    {
      "cell_type": "code",
      "source": [
        "slice_arr = arr[0:5]"
      ],
      "metadata": {
        "id": "7zHYuziXYw5T"
      },
      "execution_count": null,
      "outputs": []
    },
    {
      "cell_type": "code",
      "source": [
        "slice_arr"
      ],
      "metadata": {
        "colab": {
          "base_uri": "https://localhost:8080/"
        },
        "id": "aFBVBr88Y2l2",
        "outputId": "802d19c7-a252-4fcf-a11d-03840220eecf"
      },
      "execution_count": null,
      "outputs": [
        {
          "output_type": "execute_result",
          "data": {
            "text/plain": [
              "array([0, 1, 2, 3, 4])"
            ]
          },
          "metadata": {},
          "execution_count": 62
        }
      ]
    },
    {
      "cell_type": "code",
      "source": [
        "slice_arr[:] = 99"
      ],
      "metadata": {
        "id": "6_DX-hDRY4A7"
      },
      "execution_count": null,
      "outputs": []
    },
    {
      "cell_type": "code",
      "source": [
        "slice_arr #This slice_arr variable will also have effect in original array whih is arr"
      ],
      "metadata": {
        "colab": {
          "base_uri": "https://localhost:8080/"
        },
        "id": "Fw6pmqvbY-Yo",
        "outputId": "208a13f0-cac9-4675-b7a7-f68a60646223"
      },
      "execution_count": null,
      "outputs": [
        {
          "output_type": "execute_result",
          "data": {
            "text/plain": [
              "array([99, 99, 99, 99, 99])"
            ]
          },
          "metadata": {},
          "execution_count": 64
        }
      ]
    },
    {
      "cell_type": "code",
      "source": [
        "arr"
      ],
      "metadata": {
        "colab": {
          "base_uri": "https://localhost:8080/"
        },
        "id": "wBsmwNPnZAcI",
        "outputId": "1876450a-e3c8-4eb8-ce45-aa6b42c7bc9b"
      },
      "execution_count": null,
      "outputs": [
        {
          "output_type": "execute_result",
          "data": {
            "text/plain": [
              "array([99, 99, 99, 99, 99,  5,  6,  7,  8,  9])"
            ]
          },
          "metadata": {},
          "execution_count": 66
        }
      ]
    },
    {
      "cell_type": "markdown",
      "source": [
        "### Before performing any operations like indexing, we need to create a copy of the original array by using array.copy() method. This is happening because there won't be new memory created by python for performing operations in arrays"
      ],
      "metadata": {
        "id": "yFl8RLXobEKy"
      }
    },
    {
      "cell_type": "code",
      "source": [
        "asd = np.arange(10,20)"
      ],
      "metadata": {
        "id": "7haSFi4OZPig"
      },
      "execution_count": null,
      "outputs": []
    },
    {
      "cell_type": "code",
      "source": [
        "asd"
      ],
      "metadata": {
        "colab": {
          "base_uri": "https://localhost:8080/"
        },
        "id": "jNQvL5jXpO9j",
        "outputId": "24cee8ca-cf55-4b23-d1b3-dc6984f5704b"
      },
      "execution_count": null,
      "outputs": [
        {
          "output_type": "execute_result",
          "data": {
            "text/plain": [
              "array([10, 11, 12, 13, 14, 15, 16, 17, 18, 19])"
            ]
          },
          "metadata": {},
          "execution_count": 68
        }
      ]
    },
    {
      "cell_type": "code",
      "source": [
        "asd_copy = asd.copy()"
      ],
      "metadata": {
        "id": "XpZwvZD8pP18"
      },
      "execution_count": null,
      "outputs": []
    },
    {
      "cell_type": "code",
      "source": [
        "slice_asd_copy = asd_copy[1:5]\n",
        "slice_asd_copy"
      ],
      "metadata": {
        "colab": {
          "base_uri": "https://localhost:8080/"
        },
        "id": "fg6pegYCpTz9",
        "outputId": "21470065-8f3d-454c-d646-c30c6c8485c9"
      },
      "execution_count": null,
      "outputs": [
        {
          "output_type": "execute_result",
          "data": {
            "text/plain": [
              "array([11, 12, 13, 14])"
            ]
          },
          "metadata": {},
          "execution_count": 70
        }
      ]
    },
    {
      "cell_type": "code",
      "source": [
        "slice_asd_copy[:] = 24\n",
        "slice_asd_copy"
      ],
      "metadata": {
        "colab": {
          "base_uri": "https://localhost:8080/"
        },
        "id": "R9A0Gd96pdMQ",
        "outputId": "68b1763d-67fc-4239-a3dc-e2e76ca7cae5"
      },
      "execution_count": null,
      "outputs": [
        {
          "output_type": "execute_result",
          "data": {
            "text/plain": [
              "array([24, 24, 24, 24])"
            ]
          },
          "metadata": {},
          "execution_count": 72
        }
      ]
    },
    {
      "cell_type": "code",
      "source": [
        "print(asd)\n",
        "print(asd_copy)\n",
        "print(slice_asd_copy)"
      ],
      "metadata": {
        "colab": {
          "base_uri": "https://localhost:8080/"
        },
        "id": "wW1QrWUypiBQ",
        "outputId": "3554e4a2-0b5d-4c49-a5fb-3560558575ef"
      },
      "execution_count": null,
      "outputs": [
        {
          "output_type": "stream",
          "name": "stdout",
          "text": [
            "[10 11 12 13 14 15 16 17 18 19]\n",
            "[10 24 24 24 24 15 16 17 18 19]\n",
            "[24 24 24 24]\n"
          ]
        }
      ]
    },
    {
      "cell_type": "markdown",
      "source": [
        "##Indexing on 2D array\n",
        "SYNTAX : arr_2d[row][col] or arr_2d[row,col]"
      ],
      "metadata": {
        "id": "TQJ9-Mjm0G3g"
      }
    },
    {
      "cell_type": "code",
      "source": [
        "arr_2d = np.array([[1,2,3],[4,5,6],[7,8,9]])\n",
        "arr_2d"
      ],
      "metadata": {
        "colab": {
          "base_uri": "https://localhost:8080/"
        },
        "id": "cuRx7bz80NMN",
        "outputId": "4a279b5e-65f5-4b57-cfe3-46641bb5b476"
      },
      "execution_count": null,
      "outputs": [
        {
          "output_type": "execute_result",
          "data": {
            "text/plain": [
              "array([[1, 2, 3],\n",
              "       [4, 5, 6],\n",
              "       [7, 8, 9]])"
            ]
          },
          "metadata": {},
          "execution_count": 3
        }
      ]
    },
    {
      "cell_type": "code",
      "source": [
        "arr_2d[1] #indexing"
      ],
      "metadata": {
        "colab": {
          "base_uri": "https://localhost:8080/"
        },
        "id": "xWAaIP711S3P",
        "outputId": "1efc41ca-d8ba-4b98-a3bc-9610ffa15152"
      },
      "execution_count": null,
      "outputs": [
        {
          "output_type": "execute_result",
          "data": {
            "text/plain": [
              "array([4, 5, 6])"
            ]
          },
          "metadata": {},
          "execution_count": 4
        }
      ]
    },
    {
      "cell_type": "code",
      "source": [
        "arr_2d[0][1] #indexing"
      ],
      "metadata": {
        "colab": {
          "base_uri": "https://localhost:8080/"
        },
        "id": "DMRFyvyY1p-9",
        "outputId": "ccc67494-760d-48da-cafd-0d3e13e89a8a"
      },
      "execution_count": null,
      "outputs": [
        {
          "output_type": "execute_result",
          "data": {
            "text/plain": [
              "2"
            ]
          },
          "metadata": {},
          "execution_count": 5
        }
      ]
    },
    {
      "cell_type": "code",
      "source": [
        "arr_2d[:2] #slicing"
      ],
      "metadata": {
        "colab": {
          "base_uri": "https://localhost:8080/"
        },
        "id": "TW3Ese3b11Vx",
        "outputId": "e9f44982-3c14-4eb0-8ecc-5316e42d752a"
      },
      "execution_count": null,
      "outputs": [
        {
          "output_type": "execute_result",
          "data": {
            "text/plain": [
              "array([[1, 2, 3],\n",
              "       [4, 5, 6]])"
            ]
          },
          "metadata": {},
          "execution_count": 6
        }
      ]
    },
    {
      "cell_type": "code",
      "source": [
        "arr_2d[:2,1] #slicing"
      ],
      "metadata": {
        "colab": {
          "base_uri": "https://localhost:8080/"
        },
        "id": "FpeijNYv2m8K",
        "outputId": "e3216660-aaee-46a8-c9ca-6d7ef3f6a060"
      },
      "execution_count": null,
      "outputs": [
        {
          "output_type": "execute_result",
          "data": {
            "text/plain": [
              "array([2, 5])"
            ]
          },
          "metadata": {},
          "execution_count": 7
        }
      ]
    },
    {
      "cell_type": "code",
      "source": [
        "arr_2d[:2,1:] #slicing"
      ],
      "metadata": {
        "colab": {
          "base_uri": "https://localhost:8080/"
        },
        "id": "TIG5DVmD2sTm",
        "outputId": "d4e05ba8-b1ec-4bfd-afab-e055676b3ce1"
      },
      "execution_count": null,
      "outputs": [
        {
          "output_type": "execute_result",
          "data": {
            "text/plain": [
              "array([[2, 3],\n",
              "       [5, 6]])"
            ]
          },
          "metadata": {},
          "execution_count": 8
        }
      ]
    },
    {
      "cell_type": "markdown",
      "source": [
        "##Fancy Indexing"
      ],
      "metadata": {
        "id": "-0EMGtT34S2H"
      }
    },
    {
      "cell_type": "code",
      "source": [
        "arr2 = np.zeros((10,7))\n",
        "arr2"
      ],
      "metadata": {
        "colab": {
          "base_uri": "https://localhost:8080/"
        },
        "id": "01brcukt3acl",
        "outputId": "c7a9d902-2720-4bb3-d8c1-5287b88bd583"
      },
      "execution_count": 28,
      "outputs": [
        {
          "output_type": "execute_result",
          "data": {
            "text/plain": [
              "array([[0., 0., 0., 0., 0., 0., 0.],\n",
              "       [0., 0., 0., 0., 0., 0., 0.],\n",
              "       [0., 0., 0., 0., 0., 0., 0.],\n",
              "       [0., 0., 0., 0., 0., 0., 0.],\n",
              "       [0., 0., 0., 0., 0., 0., 0.],\n",
              "       [0., 0., 0., 0., 0., 0., 0.],\n",
              "       [0., 0., 0., 0., 0., 0., 0.],\n",
              "       [0., 0., 0., 0., 0., 0., 0.],\n",
              "       [0., 0., 0., 0., 0., 0., 0.],\n",
              "       [0., 0., 0., 0., 0., 0., 0.]])"
            ]
          },
          "metadata": {},
          "execution_count": 28
        }
      ]
    },
    {
      "cell_type": "code",
      "source": [
        "arr2_length = arr2.shape[1]\n",
        "arr2_length"
      ],
      "metadata": {
        "colab": {
          "base_uri": "https://localhost:8080/"
        },
        "id": "agNLHZJA4fKx",
        "outputId": "092fd003-6ab9-4fc0-f0bd-7d37b87d4877"
      },
      "execution_count": 32,
      "outputs": [
        {
          "output_type": "execute_result",
          "data": {
            "text/plain": [
              "7"
            ]
          },
          "metadata": {},
          "execution_count": 32
        }
      ]
    },
    {
      "cell_type": "code",
      "source": [
        "for i in range(arr2_length):\n",
        "  arr2[i] = i"
      ],
      "metadata": {
        "id": "62V1_q2q6Njc"
      },
      "execution_count": 33,
      "outputs": []
    },
    {
      "cell_type": "code",
      "source": [
        "arr2"
      ],
      "metadata": {
        "colab": {
          "base_uri": "https://localhost:8080/"
        },
        "id": "OMm288FZ8SBc",
        "outputId": "efc848a4-3f57-4a11-9d3d-41ef8ee1e213"
      },
      "execution_count": 34,
      "outputs": [
        {
          "output_type": "execute_result",
          "data": {
            "text/plain": [
              "array([[0., 0., 0., 0., 0., 0., 0.],\n",
              "       [1., 1., 1., 1., 1., 1., 1.],\n",
              "       [2., 2., 2., 2., 2., 2., 2.],\n",
              "       [3., 3., 3., 3., 3., 3., 3.],\n",
              "       [4., 4., 4., 4., 4., 4., 4.],\n",
              "       [5., 5., 5., 5., 5., 5., 5.],\n",
              "       [6., 6., 6., 6., 6., 6., 6.],\n",
              "       [7., 7., 7., 7., 7., 7., 7.],\n",
              "       [8., 8., 8., 8., 8., 8., 8.],\n",
              "       [9., 9., 9., 9., 9., 9., 9.]])"
            ]
          },
          "metadata": {},
          "execution_count": 34
        }
      ]
    },
    {
      "cell_type": "code",
      "source": [
        "arr2[[2,5,8]] #Fancy indexing"
      ],
      "metadata": {
        "colab": {
          "base_uri": "https://localhost:8080/"
        },
        "id": "e1z0jjgn8VBG",
        "outputId": "fc5e09bd-0aa4-44f8-b239-484631d895fd"
      },
      "execution_count": 35,
      "outputs": [
        {
          "output_type": "execute_result",
          "data": {
            "text/plain": [
              "array([[2., 2., 2., 2., 2., 2., 2.],\n",
              "       [5., 5., 5., 5., 5., 5., 5.],\n",
              "       [8., 8., 8., 8., 8., 8., 8.]])"
            ]
          },
          "metadata": {},
          "execution_count": 35
        }
      ]
    },
    {
      "cell_type": "markdown",
      "source": [
        "#Selection"
      ],
      "metadata": {
        "id": "VSbROlEg9co4"
      }
    },
    {
      "cell_type": "code",
      "source": [
        "arg = np.arange(18)"
      ],
      "metadata": {
        "id": "V91-qRLl873O"
      },
      "execution_count": 36,
      "outputs": []
    },
    {
      "cell_type": "code",
      "source": [
        "arg>8"
      ],
      "metadata": {
        "colab": {
          "base_uri": "https://localhost:8080/"
        },
        "id": "AuoXJNcL99Iy",
        "outputId": "a0590a0c-46c1-4360-cdb6-c65ca1fff075"
      },
      "execution_count": 37,
      "outputs": [
        {
          "output_type": "execute_result",
          "data": {
            "text/plain": [
              "array([False, False, False, False, False, False, False, False, False,\n",
              "        True,  True,  True,  True,  True,  True,  True,  True,  True])"
            ]
          },
          "metadata": {},
          "execution_count": 37
        }
      ]
    },
    {
      "cell_type": "code",
      "source": [
        "bool_arg = arg>8\n",
        "bool_arg"
      ],
      "metadata": {
        "colab": {
          "base_uri": "https://localhost:8080/"
        },
        "id": "lJF7f4Wp9_SJ",
        "outputId": "db1c1726-a23c-4aa9-ff76-a83a0cd724a5"
      },
      "execution_count": 39,
      "outputs": [
        {
          "output_type": "execute_result",
          "data": {
            "text/plain": [
              "array([False, False, False, False, False, False, False, False, False,\n",
              "        True,  True,  True,  True,  True,  True,  True,  True,  True])"
            ]
          },
          "metadata": {},
          "execution_count": 39
        }
      ]
    },
    {
      "cell_type": "code",
      "source": [
        "arg[bool_arg]"
      ],
      "metadata": {
        "colab": {
          "base_uri": "https://localhost:8080/"
        },
        "id": "fnU5kIwv-Cjx",
        "outputId": "b0948924-0a3b-44d2-e378-c364fc1715a8"
      },
      "execution_count": 40,
      "outputs": [
        {
          "output_type": "execute_result",
          "data": {
            "text/plain": [
              "array([ 9, 10, 11, 12, 13, 14, 15, 16, 17])"
            ]
          },
          "metadata": {},
          "execution_count": 40
        }
      ]
    },
    {
      "cell_type": "code",
      "source": [
        "arg[arg>9]"
      ],
      "metadata": {
        "colab": {
          "base_uri": "https://localhost:8080/"
        },
        "id": "kykMAcbv-RJi",
        "outputId": "4c96f662-e972-4b1a-ddba-827ab347a2cf"
      },
      "execution_count": 41,
      "outputs": [
        {
          "output_type": "execute_result",
          "data": {
            "text/plain": [
              "array([10, 11, 12, 13, 14, 15, 16, 17])"
            ]
          },
          "metadata": {},
          "execution_count": 41
        }
      ]
    },
    {
      "cell_type": "markdown",
      "source": [
        "#Numpy Operations"
      ],
      "metadata": {
        "id": "Lkklodi4-fUm"
      }
    },
    {
      "cell_type": "code",
      "source": [
        "a = np.arange(0,10)"
      ],
      "metadata": {
        "id": "2X7swF0f-Vtu"
      },
      "execution_count": 42,
      "outputs": []
    },
    {
      "cell_type": "code",
      "source": [
        "a + a"
      ],
      "metadata": {
        "colab": {
          "base_uri": "https://localhost:8080/"
        },
        "id": "eQB0dqAJ-3_1",
        "outputId": "72043d44-b82a-4ba5-b97a-bc3b67e3ba23"
      },
      "execution_count": 43,
      "outputs": [
        {
          "output_type": "execute_result",
          "data": {
            "text/plain": [
              "array([ 0,  2,  4,  6,  8, 10, 12, 14, 16, 18])"
            ]
          },
          "metadata": {},
          "execution_count": 43
        }
      ]
    },
    {
      "cell_type": "code",
      "source": [
        "a - a"
      ],
      "metadata": {
        "colab": {
          "base_uri": "https://localhost:8080/"
        },
        "id": "2CJ_L4UQ-8FJ",
        "outputId": "8fe4122a-59c9-459a-94b4-f293bdbaed93"
      },
      "execution_count": 44,
      "outputs": [
        {
          "output_type": "execute_result",
          "data": {
            "text/plain": [
              "array([0, 0, 0, 0, 0, 0, 0, 0, 0, 0])"
            ]
          },
          "metadata": {},
          "execution_count": 44
        }
      ]
    },
    {
      "cell_type": "code",
      "source": [
        "a/a"
      ],
      "metadata": {
        "colab": {
          "base_uri": "https://localhost:8080/"
        },
        "id": "vyG16Ik8_FIl",
        "outputId": "b4160bc4-4092-431b-c431-a8df8d738469"
      },
      "execution_count": 45,
      "outputs": [
        {
          "output_type": "stream",
          "name": "stderr",
          "text": [
            "<ipython-input-45-18210b5178b0>:1: RuntimeWarning: invalid value encountered in divide\n",
            "  a/a\n"
          ]
        },
        {
          "output_type": "execute_result",
          "data": {
            "text/plain": [
              "array([nan,  1.,  1.,  1.,  1.,  1.,  1.,  1.,  1.,  1.])"
            ]
          },
          "metadata": {},
          "execution_count": 45
        }
      ]
    },
    {
      "cell_type": "code",
      "source": [
        "0/0"
      ],
      "metadata": {
        "colab": {
          "base_uri": "https://localhost:8080/",
          "height": 141
        },
        "id": "dfIZm86p_G95",
        "outputId": "5b034a76-9a02-452e-c300-02b3604a0f95"
      },
      "execution_count": 46,
      "outputs": [
        {
          "output_type": "error",
          "ename": "ZeroDivisionError",
          "evalue": "division by zero",
          "traceback": [
            "\u001b[0;31m---------------------------------------------------------------------------\u001b[0m",
            "\u001b[0;31mZeroDivisionError\u001b[0m                         Traceback (most recent call last)",
            "\u001b[0;32m<ipython-input-46-9ab73e148374>\u001b[0m in \u001b[0;36m<cell line: 1>\u001b[0;34m()\u001b[0m\n\u001b[0;32m----> 1\u001b[0;31m \u001b[0;36m0\u001b[0m\u001b[0;34m/\u001b[0m\u001b[0;36m0\u001b[0m\u001b[0;34m\u001b[0m\u001b[0;34m\u001b[0m\u001b[0m\n\u001b[0m",
            "\u001b[0;31mZeroDivisionError\u001b[0m: division by zero"
          ]
        }
      ]
    },
    {
      "cell_type": "markdown",
      "source": [
        "#Universal Array Functions"
      ],
      "metadata": {
        "id": "ZS7Tz72CCb4T"
      }
    },
    {
      "cell_type": "code",
      "source": [
        "np.sqrt(arr_2d)"
      ],
      "metadata": {
        "colab": {
          "base_uri": "https://localhost:8080/"
        },
        "id": "ufVm2jah_1fd",
        "outputId": "09cc9d7f-ffda-4d93-b3d0-64348dab80b0"
      },
      "execution_count": 48,
      "outputs": [
        {
          "output_type": "execute_result",
          "data": {
            "text/plain": [
              "array([[1.        , 1.41421356, 1.73205081],\n",
              "       [2.        , 2.23606798, 2.44948974],\n",
              "       [2.64575131, 2.82842712, 3.        ]])"
            ]
          },
          "metadata": {},
          "execution_count": 48
        }
      ]
    },
    {
      "cell_type": "code",
      "source": [
        "np.exp(arr_2d)"
      ],
      "metadata": {
        "colab": {
          "base_uri": "https://localhost:8080/"
        },
        "id": "FVslu_csCljI",
        "outputId": "a2c53b51-52c7-4c36-d20e-d952eeaee51c"
      },
      "execution_count": 49,
      "outputs": [
        {
          "output_type": "execute_result",
          "data": {
            "text/plain": [
              "array([[2.71828183e+00, 7.38905610e+00, 2.00855369e+01],\n",
              "       [5.45981500e+01, 1.48413159e+02, 4.03428793e+02],\n",
              "       [1.09663316e+03, 2.98095799e+03, 8.10308393e+03]])"
            ]
          },
          "metadata": {},
          "execution_count": 49
        }
      ]
    },
    {
      "cell_type": "code",
      "source": [
        "np.log(arr_2d)"
      ],
      "metadata": {
        "colab": {
          "base_uri": "https://localhost:8080/"
        },
        "id": "7SDonhehC0LJ",
        "outputId": "269e42b8-2316-417d-8606-2572c2149d76"
      },
      "execution_count": 50,
      "outputs": [
        {
          "output_type": "execute_result",
          "data": {
            "text/plain": [
              "array([[0.        , 0.69314718, 1.09861229],\n",
              "       [1.38629436, 1.60943791, 1.79175947],\n",
              "       [1.94591015, 2.07944154, 2.19722458]])"
            ]
          },
          "metadata": {},
          "execution_count": 50
        }
      ]
    },
    {
      "cell_type": "code",
      "source": [
        "np.sin(arr_2d)"
      ],
      "metadata": {
        "colab": {
          "base_uri": "https://localhost:8080/"
        },
        "id": "tw1OkyCmC3_Y",
        "outputId": "881fd594-9101-4387-ca22-55b4371f89fe"
      },
      "execution_count": 51,
      "outputs": [
        {
          "output_type": "execute_result",
          "data": {
            "text/plain": [
              "array([[ 0.84147098,  0.90929743,  0.14112001],\n",
              "       [-0.7568025 , -0.95892427, -0.2794155 ],\n",
              "       [ 0.6569866 ,  0.98935825,  0.41211849]])"
            ]
          },
          "metadata": {},
          "execution_count": 51
        }
      ]
    },
    {
      "cell_type": "code",
      "source": [],
      "metadata": {
        "id": "BT5vBm2VC6tk"
      },
      "execution_count": null,
      "outputs": []
    }
  ]
}